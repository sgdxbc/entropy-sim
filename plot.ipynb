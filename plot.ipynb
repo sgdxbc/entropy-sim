{
 "cells": [
  {
   "cell_type": "code",
   "execution_count": null,
   "metadata": {},
   "outputs": [],
   "source": [
    "%pip install seaborn"
   ]
  },
  {
   "cell_type": "code",
   "execution_count": null,
   "metadata": {},
   "outputs": [],
   "source": [
    "import seaborn.objects as so\n",
    "import pandas as pd\n",
    "from glob import glob"
   ]
  },
  {
   "cell_type": "code",
   "execution_count": null,
   "metadata": {},
   "outputs": [],
   "source": [
    "df = pd.concat([pd.read_csv(f, names=[\n",
    "    \"Number of Nodes\",\n",
    "    \"Number of Data Objects\",\n",
    "    \"Average Size of Failure Domains\",\n",
    "    \"Protocol\",\n",
    "    \"Redundancy\",\n",
    "    \"Step\",\n",
    "    \"% of Alive Data\",\n",
    "    \"Average Node Failures per Step\",\n",
    "    \"Churn Rate\",\n",
    "]) for f in glob(\"data/*.csv\")], ignore_index=True)\n",
    "df"
   ]
  },
  {
   "cell_type": "code",
   "execution_count": null,
   "metadata": {},
   "outputs": [],
   "source": [
    "(\n",
    "    so.Plot(df, x=\"Step\", y=\"% of Alive Data\")\n",
    "    .add(so.Line())\n",
    ")"
   ]
  }
 ],
 "metadata": {
  "kernelspec": {
   "display_name": ".venv",
   "language": "python",
   "name": "python3"
  },
  "language_info": {
   "codemirror_mode": {
    "name": "ipython",
    "version": 3
   },
   "file_extension": ".py",
   "mimetype": "text/x-python",
   "name": "python",
   "nbconvert_exporter": "python",
   "pygments_lexer": "ipython3",
   "version": "3.12.3"
  }
 },
 "nbformat": 4,
 "nbformat_minor": 2
}
