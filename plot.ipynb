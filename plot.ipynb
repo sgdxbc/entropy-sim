{
 "cells": [
  {
   "cell_type": "code",
   "execution_count": null,
   "metadata": {},
   "outputs": [],
   "source": [
    "from pathlib import Path\n",
    "PLOT_DIR = Path('plots')\n",
    "PLOT_DIR.mkdir(exist_ok=True)\n",
    "(PLOT_DIR / '.gitignore').write_text('*')"
   ]
  },
  {
   "cell_type": "code",
   "execution_count": null,
   "metadata": {},
   "outputs": [],
   "source": [
    "%pip install seaborn"
   ]
  },
  {
   "cell_type": "code",
   "execution_count": null,
   "metadata": {},
   "outputs": [],
   "source": [
    "import seaborn as sns\n",
    "import seaborn.objects as so\n",
    "from seaborn import axes_style, move_legend\n",
    "import pandas as pd\n",
    "from glob import glob\n",
    "import matplotlib.pyplot as plt"
   ]
  },
  {
   "cell_type": "code",
   "execution_count": null,
   "metadata": {},
   "outputs": [],
   "source": [
    "names=[\"_1\", \"_2\", \"_3\", \"_4\", \"K\", \"Degree\", \"Probability\"]\n",
    "df = pd.concat([pd.read_csv(f, names=names) for f in glob(\"data/saved/degree-*.csv\")], ignore_index=True)\n",
    "df"
   ]
  },
  {
   "cell_type": "code",
   "execution_count": null,
   "metadata": {},
   "outputs": [],
   "source": [
    "p = (\n",
    "    so.Plot(\n",
    "        data=df[df[\"Degree\"] <= 8000],\n",
    "        # data=df,\n",
    "        x=\"Degree\", y=\"Probability\",\n",
    "        color=\"K\",\n",
    "    )\n",
    "    .theme({**axes_style(\"ticks\")})\n",
    "    .scale(\n",
    "        y=\"log\",\n",
    "        color=so.Continuous().tick(at=df[\"K\"].unique()),\n",
    "    )\n",
    "    .add(so.Line())\n",
    ")\n",
    "p"
   ]
  },
  {
   "cell_type": "code",
   "execution_count": null,
   "metadata": {},
   "outputs": [],
   "source": [
    "names=[\"_1\", \"_2\", \"_3\", \"Target Redundancy\", \"K\", \"Number of Data\", \"_Node Id\", \"Load\"]\n",
    "df = pd.concat([pd.read_csv(f, names=names) for f in glob(\"data/saved/load-*.csv\")], ignore_index=True)\n",
    "df"
   ]
  },
  {
   "cell_type": "code",
   "execution_count": null,
   "metadata": {},
   "outputs": [],
   "source": [
    "sns.displot(\n",
    "    df[df[\"Number of Data\"] == 400], \n",
    "    kind=\"ecdf\",\n",
    "    x=\"Load\", hue=\"Target Redundancy\",\n",
    ")"
   ]
  },
  {
   "cell_type": "code",
   "execution_count": null,
   "metadata": {},
   "outputs": [],
   "source": [
    "sns.displot(\n",
    "    df[df[\"Target Redundancy\"] == 1.6], \n",
    "    kind=\"ecdf\",\n",
    "    x=\"Load\", hue=\"Number of Data\",\n",
    ")"
   ]
  },
  {
   "cell_type": "code",
   "execution_count": null,
   "metadata": {},
   "outputs": [],
   "source": [
    "names=[\"_1\", \"Enter Rate\", \"Leave Rate\", \"Target Redundancy\", \"K\", \"Scale Estimation Interval\", \"_7\", \"Number of Data\", \"Step\", \"Number of Node\", \"Redundancy\"]\n",
    "df = pd.concat([pd.read_csv(f, names=names) for f in glob(\"data/checkpoint-*.csv\")], ignore_index=True)\n",
    "df"
   ]
  },
  {
   "cell_type": "code",
   "execution_count": null,
   "metadata": {},
   "outputs": [],
   "source": [
    "p = (\n",
    "    so.Plot(\n",
    "        data=df,\n",
    "        x=\"Step\", y=\"Number of Node\",\n",
    "    )\n",
    "    .theme({**axes_style(\"ticks\")})\n",
    "    .add(so.Line())\n",
    ")\n",
    "p"
   ]
  },
  {
   "cell_type": "code",
   "execution_count": null,
   "metadata": {},
   "outputs": [],
   "source": [
    "p = (\n",
    "    so.Plot(\n",
    "        data=df,\n",
    "        x=\"Step\", y=\"Redundancy\",\n",
    "    )\n",
    "    .theme({**axes_style(\"ticks\")})\n",
    "    .add(so.Line())\n",
    ")\n",
    "p"
   ]
  }
 ],
 "metadata": {
  "kernelspec": {
   "display_name": ".venv",
   "language": "python",
   "name": "python3"
  },
  "language_info": {
   "codemirror_mode": {
    "name": "ipython",
    "version": 3
   },
   "file_extension": ".py",
   "mimetype": "text/x-python",
   "name": "python",
   "nbconvert_exporter": "python",
   "pygments_lexer": "ipython3",
   "version": "3.12.3"
  }
 },
 "nbformat": 4,
 "nbformat_minor": 2
}
