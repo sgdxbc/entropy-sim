{
 "cells": [
  {
   "cell_type": "code",
   "execution_count": null,
   "metadata": {},
   "outputs": [],
   "source": [
    "from pathlib import Path\n",
    "PLOT_DIR = Path('plots')\n",
    "PLOT_DIR.mkdir(exist_ok=True)\n",
    "(PLOT_DIR / '.gitignore').write_text('*')"
   ]
  },
  {
   "cell_type": "code",
   "execution_count": null,
   "metadata": {},
   "outputs": [],
   "source": [
    "%pip install seaborn"
   ]
  },
  {
   "cell_type": "code",
   "execution_count": null,
   "metadata": {},
   "outputs": [],
   "source": [
    "import seaborn as sns\n",
    "import seaborn.objects as so\n",
    "from seaborn import axes_style, move_legend\n",
    "import pandas as pd\n",
    "from glob import glob\n",
    "import matplotlib.pyplot as plt"
   ]
  },
  {
   "cell_type": "code",
   "execution_count": null,
   "metadata": {},
   "outputs": [],
   "source": [
    "names=[\"_1\", \"_2\", \"_3\", \"_4\", \"K\", \"Degree\", \"Probability\"]\n",
    "df = pd.concat([pd.read_csv(f, names=names) for f in glob(\"data/saved/degree-*.csv\")], ignore_index=True)\n",
    "df"
   ]
  },
  {
   "cell_type": "code",
   "execution_count": null,
   "metadata": {},
   "outputs": [],
   "source": [
    "p = (\n",
    "    so.Plot(\n",
    "        data=df[df[\"Degree\"] <= 8000],\n",
    "        # data=df,\n",
    "        x=\"Degree\", y=\"Probability\",\n",
    "        color=\"K\",\n",
    "    )\n",
    "    .theme({**axes_style(\"ticks\")})\n",
    "    .scale(\n",
    "        y=\"log\",\n",
    "        color=so.Continuous().tick(at=df[\"K\"].unique()),\n",
    "    )\n",
    "    .add(so.Line())\n",
    ")\n",
    "p"
   ]
  },
  {
   "cell_type": "code",
   "execution_count": null,
   "metadata": {},
   "outputs": [],
   "source": [
    "for k in df[\"K\"].unique():\n",
    "    data = df[df[\"K\"] == k]\n",
    "    d = (data[\"Degree\"] * data[\"Probability\"]).sum()\n",
    "    print(k, d)"
   ]
  },
  {
   "cell_type": "code",
   "execution_count": null,
   "metadata": {},
   "outputs": [],
   "source": [
    "df = pd.concat([pd.read_csv(f, names=[\n",
    "    \"Number of Nodes\",\n",
    "    \"Number of Data Objects\",\n",
    "    \"Average Size of Failure Domains\",\n",
    "    \"Protocol\",\n",
    "    \"Redundancy\",\n",
    "    \"Placement Group Size\",\n",
    "    \"Step\",\n",
    "    \"% Alive Data\",\n",
    "    \"Average Node Failures per Step\",\n",
    "    \"Churn Rate\",\n",
    "]) for f in glob(\"data/saved/*.csv\")], ignore_index=True)\n",
    "df[\"Average % of Failure Domains\"] = df[\"Average Size of Failure Domains\"] / df[\"Number of Nodes\"] * 100\n",
    "df"
   ]
  },
  {
   "cell_type": "code",
   "execution_count": null,
   "metadata": {},
   "outputs": [],
   "source": [
    "f, ((ax1, ax2), (ax3, ax4)) = plt.subplots(2, 2)\n",
    "f.subplots_adjust(hspace=0.3)"
   ]
  },
  {
   "cell_type": "code",
   "execution_count": null,
   "metadata": {},
   "outputs": [],
   "source": [
    "p = (\n",
    "    so.Plot(\n",
    "        data=df[(df[\"Average Size of Failure Domains\"] != 0) & (df[\"Redundancy\"] == 1.6) & (df[\"Placement Group Size\"] == 8)], \n",
    "        x=\"Step\", y=\"% Alive Data\", color=\"Average % of Failure Domains\")\n",
    "    .theme({**axes_style(\"ticks\")})\n",
    "    .add(so.Line())\n",
    "    .scale(\n",
    "        color=so.Continuous().tick(at=[0.3, 0.5, 1, 2, 3]).label(like=\"{x}%\"),\n",
    "        x=so.Continuous().tick(at=[x * 2e5 for x in range(5 + 1)])\n",
    "    )\n",
    "    .label(color=None, x=None, y=None)\n",
    "    .layout(size=(4, 3))\n",
    "    .on(ax2)\n",
    "    .plot()\n",
    ")\n",
    "legend = f.legends.pop(0)\n",
    "ax2.legend(legend.legend_handles, [t.get_text() for t in legend.texts])\n",
    "p"
   ]
  },
  {
   "cell_type": "code",
   "execution_count": null,
   "metadata": {},
   "outputs": [],
   "source": [
    "p.save(PLOT_DIR / 'domain-scale.pdf', bbox_inches='tight')"
   ]
  },
  {
   "cell_type": "code",
   "execution_count": null,
   "metadata": {},
   "outputs": [],
   "source": [
    "p = (\n",
    "    so.Plot(\n",
    "        data=df[(df[\"Average % of Failure Domains\"] == 3) & ((df[\"Redundancy\"] > 1.6) | (df[\"Placement Group Size\"] == 8))], \n",
    "        x=\"Step\", y=\"% Alive Data\", color=\"Redundancy\")\n",
    "    .theme({**axes_style(\"ticks\")})\n",
    "    .add(so.Line())\n",
    "    .scale(\n",
    "        color=so.Continuous().tick(at=[x / 5 for x in range(8, 12)]).label(like=\"{x}x\"),\n",
    "        x=so.Continuous().tick(at=[x * 2e5 for x in range(5 + 1)])\n",
    "    )\n",
    "    .label(color=None, x=None, y=None)\n",
    "    .layout(size=(4, 3))\n",
    "    .on(ax3)\n",
    "    .plot()\n",
    ")\n",
    "legend = f.legends.pop(0)\n",
    "ax3.legend(legend.legend_handles, [t.get_text() for t in legend.texts])\n",
    "p"
   ]
  },
  {
   "cell_type": "code",
   "execution_count": null,
   "metadata": {},
   "outputs": [],
   "source": [
    "p.save(PLOT_DIR / 'redundancy.pdf', bbox_inches='tight')"
   ]
  },
  {
   "cell_type": "code",
   "execution_count": null,
   "metadata": {},
   "outputs": [],
   "source": [
    "p = (\n",
    "    so.Plot(\n",
    "        data=df[(df[\"Average % of Failure Domains\"] == 3) & ((df[\"Redundancy\"] == 1.6))], \n",
    "        x=\"Step\", y=\"% Alive Data\", color=\"Placement Group Size\")\n",
    "    .theme({**axes_style(\"ticks\")})\n",
    "    .add(so.Line())\n",
    "    .scale(\n",
    "        color=so.Continuous().tick(at=list(range(8, 24 + 1, 8))),\n",
    "        x=so.Continuous().tick(at=[x * 2e5 for x in range(5 + 1)])\n",
    "    )\n",
    "    .label(color=None, x=None, y=None)\n",
    "    .layout(size=(4, 3))\n",
    "    .on(ax4)\n",
    "    .plot()\n",
    ")\n",
    "legend = f.legends.pop(0)\n",
    "ax4.legend(legend.legend_handles, [t.get_text() for t in legend.texts])\n",
    "p"
   ]
  },
  {
   "cell_type": "code",
   "execution_count": null,
   "metadata": {},
   "outputs": [],
   "source": [
    "p.save(PLOT_DIR / 'group-scale.pdf', bbox_inches='tight')"
   ]
  },
  {
   "cell_type": "code",
   "execution_count": null,
   "metadata": {},
   "outputs": [],
   "source": [
    "p = (\n",
    "    so.Plot(\n",
    "        data=df[df[\"Average Size of Failure Domains\"] == 0], \n",
    "        x=\"Step\", y=\"% Alive Data\", color=\"Protocol\")\n",
    "    .theme({**axes_style(\"ticks\")})\n",
    "    .add(so.Line())\n",
    "    # .scale(color=so.Continuous().tick(at=[x / 5 for x in range(8, 12)]))\n",
    "    .scale(\n",
    "        x=so.Continuous().tick(at=[x * 2e5 for x in range(5 + 1)])\n",
    "    )\n",
    "    .label(color=None, x=None, y=None)\n",
    "    .layout(size=(4, 3))\n",
    "    .on(ax1)\n",
    "    .plot()\n",
    ")\n",
    "legend = f.legends.pop(0)\n",
    "ax1.legend(legend.legend_handles, [t.get_text() for t in legend.texts])\n",
    "p"
   ]
  },
  {
   "cell_type": "code",
   "execution_count": null,
   "metadata": {},
   "outputs": [],
   "source": [
    "f.supxlabel('Step')\n",
    "f.supylabel('% Alive Data')\n",
    "f"
   ]
  },
  {
   "cell_type": "code",
   "execution_count": null,
   "metadata": {},
   "outputs": [],
   "source": [
    "p.save(PLOT_DIR / 'repair.pdf', bbox_inches='tight')"
   ]
  },
  {
   "cell_type": "code",
   "execution_count": null,
   "metadata": {},
   "outputs": [],
   "source": [
    "f.savefig(PLOT_DIR / 'all-in-one.pdf', bbox_inches='tight')"
   ]
  }
 ],
 "metadata": {
  "kernelspec": {
   "display_name": ".venv",
   "language": "python",
   "name": "python3"
  },
  "language_info": {
   "codemirror_mode": {
    "name": "ipython",
    "version": 3
   },
   "file_extension": ".py",
   "mimetype": "text/x-python",
   "name": "python",
   "nbconvert_exporter": "python",
   "pygments_lexer": "ipython3",
   "version": "3.12.3"
  }
 },
 "nbformat": 4,
 "nbformat_minor": 2
}
