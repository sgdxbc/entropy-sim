{
 "cells": [
  {
   "cell_type": "code",
   "execution_count": null,
   "metadata": {},
   "outputs": [],
   "source": [
    "%pip install seaborn"
   ]
  },
  {
   "cell_type": "code",
   "execution_count": null,
   "metadata": {},
   "outputs": [],
   "source": [
    "import seaborn.objects as so\n",
    "import pandas as pd\n",
    "from glob import glob"
   ]
  },
  {
   "cell_type": "code",
   "execution_count": null,
   "metadata": {},
   "outputs": [],
   "source": [
    "df = pd.concat([pd.read_csv(f, names=[\n",
    "    \"Number of Nodes\",\n",
    "    \"Number of Data Objects\",\n",
    "    \"Average Size of Failure Domains\",\n",
    "    \"Protocol\",\n",
    "    \"Redundancy\",\n",
    "    \"Placement Group Size\",\n",
    "    \"Step\",\n",
    "    \"% of Alive Data\",\n",
    "    \"Average Node Failures per Step\",\n",
    "    \"Churn Rate\",\n",
    "]) for f in glob(\"data/saved/*.csv\")], ignore_index=True)\n",
    "df[\"Average % of Failure Domains\"] = df[\"Average Size of Failure Domains\"] / df[\"Number of Nodes\"] * 100\n",
    "df"
   ]
  },
  {
   "cell_type": "code",
   "execution_count": null,
   "metadata": {},
   "outputs": [],
   "source": [
    "(\n",
    "    so.Plot(df, x=\"Step\", y=\"% of Alive Data\", color=\"Average % of Failure Domains\")\n",
    "    .add(so.Line())\n",
    "    .scale(color=so.Continuous().tick(at=[10, 12, 15, 20]))\n",
    ")"
   ]
  }
 ],
 "metadata": {
  "kernelspec": {
   "display_name": ".venv",
   "language": "python",
   "name": "python3"
  },
  "language_info": {
   "codemirror_mode": {
    "name": "ipython",
    "version": 3
   },
   "file_extension": ".py",
   "mimetype": "text/x-python",
   "name": "python",
   "nbconvert_exporter": "python",
   "pygments_lexer": "ipython3",
   "version": "3.12.3"
  }
 },
 "nbformat": 4,
 "nbformat_minor": 2
}
